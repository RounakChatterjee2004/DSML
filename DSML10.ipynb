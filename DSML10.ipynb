{
  "nbformat": 4,
  "nbformat_minor": 0,
  "metadata": {
    "colab": {
      "provenance": []
    },
    "kernelspec": {
      "name": "python3",
      "display_name": "Python 3"
    },
    "language_info": {
      "name": "python"
    }
  },
  "cells": [
    {
      "cell_type": "code",
      "execution_count": 1,
      "metadata": {
        "colab": {
          "base_uri": "https://localhost:8080/"
        },
        "id": "UIeZ5Vjtf_Xz",
        "outputId": "746d9d0c-b0af-4db2-80ee-958fbb1ca043"
      },
      "outputs": [
        {
          "output_type": "stream",
          "name": "stdout",
          "text": [
            "Cluster 1 (around m1): [[ 2 10]]\n",
            "Cluster 2 (around m2): [[2 5]\n",
            " [5 8]\n",
            " [4 9]]\n",
            "Cluster 3 (around m3): [[8 4]\n",
            " [7 5]\n",
            " [6 4]\n",
            " [1 2]]\n",
            "Updated centroid m1: [ 2. 10.]\n",
            "Updated centroid m2: [3.66666667 7.33333333]\n",
            "Updated centroid m3: [5.5  3.75]\n"
          ]
        }
      ],
      "source": [
        "import numpy as np\n",
        "\n",
        "# Points as given in the problem\n",
        "points = np.array([\n",
        "    [2, 10],#p1\n",
        "    [2, 5],#p2\n",
        "    [8, 4],#p3\n",
        "    [5, 8],#p4\n",
        "    [7, 5],#p5\n",
        "    [6, 4],#p6\n",
        "    [1, 2],#p7\n",
        "    [4, 9],#p8\n",
        "])\n",
        "# Initial centroids\n",
        "m1 = points[0]  # P1\n",
        "m2 = points[7]  # P8\n",
        "m3 = points[4]  # P5\n",
        "\n",
        "# Function to calculate Euclidean distance\n",
        "def euclidean_distance(point, centroid):\n",
        "    return np.sqrt(np.sum((point - centroid) ** 2))\n",
        "\n",
        "# Perform one iteration of k-means\n",
        "def k_means_iteration(points, m1, m2, m3):\n",
        "    cluster1, cluster2, cluster3 = [], [], []\n",
        "    for point in points:\n",
        "        # Calculate distances to centroids\n",
        "        dist_to_m1 = euclidean_distance(point, m1)\n",
        "        dist_to_m2 = euclidean_distance(point, m2)\n",
        "        dist_to_m3 = euclidean_distance(point, m3)\n",
        "\n",
        "        # Assign point to the nearest cluster\n",
        "        if dist_to_m1 < dist_to_m2 and dist_to_m1 < dist_to_m3:\n",
        "            cluster1.append(point)\n",
        "        elif dist_to_m2 < dist_to_m1 and dist_to_m2 < dist_to_m3:\n",
        "            cluster2.append(point)\n",
        "        else:\n",
        "            cluster3.append(point)\n",
        "\n",
        "    # Update centroids\n",
        "    new_m1 = np.mean(cluster1, axis=0) if cluster1 else m1\n",
        "    new_m2 = np.mean(cluster2, axis=0) if cluster2 else m2\n",
        "    new_m3 = np.mean(cluster3, axis=0) if cluster3 else m3\n",
        "    return np.array(cluster1), np.array(cluster2), np.array(cluster3), new_m1, new_m2, new_m3\n",
        "\n",
        "# Run one iteration\n",
        "cluster1, cluster2, cluster3, new_m1, new_m2, new_m3 = k_means_iteration(points, m1, m2, m3)\n",
        "\n",
        "# Results\n",
        "print(\"Cluster 1 (around m1):\", cluster1)\n",
        "print(\"Cluster 2 (around m2):\", cluster2)\n",
        "print(\"Cluster 3 (around m3):\", cluster3)\n",
        "print(\"Updated centroid m1:\", new_m1)\n",
        "print(\"Updated centroid m2:\", new_m2)\n",
        "print(\"Updated centroid m3:\", new_m3)\n",
        "\n",
        "\n"
      ]
    },
    {
      "cell_type": "markdown",
      "source": [
        "#QUESTIONS AND ANSWERS\n",
        "#1.Which cluster does P6[6,4] belong to?\n",
        "Ans=P6 belongs to cluster cluster 3\n",
        "#2. What is the population of a cluster around m3?\n",
        "Ans=4 (i.e p3,p5,p6,p7 three data points are present in cluster m2)\n",
        "#3. What is the updated value of m1 and m2?\n",
        "Ans=From above resuls,\n",
        "Updated centroid m1: [ 2. 10.]\n",
        "Updated centroid m2: [3.66666667 7.33333333]\n",
        "Updated centroid m3: [5.5  3.75]"
      ],
      "metadata": {
        "id": "bZVmMClUgILp"
      }
    },
    {
      "cell_type": "code",
      "source": [],
      "metadata": {
        "id": "hyu9fNN-gLmF"
      },
      "execution_count": null,
      "outputs": []
    }
  ]
}