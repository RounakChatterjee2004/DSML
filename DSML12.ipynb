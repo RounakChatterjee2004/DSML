{
 "cells": [
  {
   "cell_type": "code",
   "execution_count": 3,
   "metadata": {
    "id": "d__XhfIVloFu"
   },
   "outputs": [],
   "source": [
    "import pandas as pd\n",
    "import matplotlib.pyplot as plt\n",
    "import seaborn as sns\n",
    "\n",
    "# Create DataFrame from the given data\n",
    "\n",
    "df = pd.read_csv(\"C:/Users/Sohel's PC/Desktop/DSML_Practical/Datasets(1)/Datasets/IRIS.csv\")"
   ]
  },
  {
   "cell_type": "code",
   "execution_count": null,
   "metadata": {
    "colab": {
     "base_uri": "https://localhost:8080/",
     "height": 206
    },
    "id": "joi8_4hLlrxx",
    "outputId": "687f391d-b33f-4a5b-be11-d7d7a2ed44ca"
   },
   "outputs": [
    {
     "data": {
      "text/html": [
       "<div>\n",
       "<style scoped>\n",
       "    .dataframe tbody tr th:only-of-type {\n",
       "        vertical-align: middle;\n",
       "    }\n",
       "\n",
       "    .dataframe tbody tr th {\n",
       "        vertical-align: top;\n",
       "    }\n",
       "\n",
       "    .dataframe thead th {\n",
       "        text-align: right;\n",
       "    }\n",
       "</style>\n",
       "<table border=\"1\" class=\"dataframe\">\n",
       "  <thead>\n",
       "    <tr style=\"text-align: right;\">\n",
       "      <th></th>\n",
       "      <th>sepal_length</th>\n",
       "      <th>sepal_width</th>\n",
       "      <th>petal_length</th>\n",
       "      <th>petal_width</th>\n",
       "      <th>species</th>\n",
       "    </tr>\n",
       "  </thead>\n",
       "  <tbody>\n",
       "    <tr>\n",
       "      <th>0</th>\n",
       "      <td>5.1</td>\n",
       "      <td>3.5</td>\n",
       "      <td>1.4</td>\n",
       "      <td>0.2</td>\n",
       "      <td>Iris-setosa</td>\n",
       "    </tr>\n",
       "    <tr>\n",
       "      <th>1</th>\n",
       "      <td>4.9</td>\n",
       "      <td>3.0</td>\n",
       "      <td>1.4</td>\n",
       "      <td>0.2</td>\n",
       "      <td>Iris-setosa</td>\n",
       "    </tr>\n",
       "    <tr>\n",
       "      <th>2</th>\n",
       "      <td>4.7</td>\n",
       "      <td>3.2</td>\n",
       "      <td>1.3</td>\n",
       "      <td>0.2</td>\n",
       "      <td>Iris-setosa</td>\n",
       "    </tr>\n",
       "    <tr>\n",
       "      <th>3</th>\n",
       "      <td>4.6</td>\n",
       "      <td>3.1</td>\n",
       "      <td>1.5</td>\n",
       "      <td>0.2</td>\n",
       "      <td>Iris-setosa</td>\n",
       "    </tr>\n",
       "    <tr>\n",
       "      <th>4</th>\n",
       "      <td>5.0</td>\n",
       "      <td>3.6</td>\n",
       "      <td>1.4</td>\n",
       "      <td>0.2</td>\n",
       "      <td>Iris-setosa</td>\n",
       "    </tr>\n",
       "    <tr>\n",
       "      <th>...</th>\n",
       "      <td>...</td>\n",
       "      <td>...</td>\n",
       "      <td>...</td>\n",
       "      <td>...</td>\n",
       "      <td>...</td>\n",
       "    </tr>\n",
       "    <tr>\n",
       "      <th>145</th>\n",
       "      <td>6.7</td>\n",
       "      <td>3.0</td>\n",
       "      <td>5.2</td>\n",
       "      <td>2.3</td>\n",
       "      <td>Iris-virginica</td>\n",
       "    </tr>\n",
       "    <tr>\n",
       "      <th>146</th>\n",
       "      <td>6.3</td>\n",
       "      <td>2.5</td>\n",
       "      <td>5.0</td>\n",
       "      <td>1.9</td>\n",
       "      <td>Iris-virginica</td>\n",
       "    </tr>\n",
       "    <tr>\n",
       "      <th>147</th>\n",
       "      <td>6.5</td>\n",
       "      <td>3.0</td>\n",
       "      <td>5.2</td>\n",
       "      <td>2.0</td>\n",
       "      <td>Iris-virginica</td>\n",
       "    </tr>\n",
       "    <tr>\n",
       "      <th>148</th>\n",
       "      <td>6.2</td>\n",
       "      <td>3.4</td>\n",
       "      <td>5.4</td>\n",
       "      <td>2.3</td>\n",
       "      <td>Iris-virginica</td>\n",
       "    </tr>\n",
       "    <tr>\n",
       "      <th>149</th>\n",
       "      <td>5.9</td>\n",
       "      <td>3.0</td>\n",
       "      <td>5.1</td>\n",
       "      <td>1.8</td>\n",
       "      <td>Iris-virginica</td>\n",
       "    </tr>\n",
       "  </tbody>\n",
       "</table>\n",
       "<p>150 rows × 5 columns</p>\n",
       "</div>"
      ],
      "text/plain": [
       "     sepal_length  sepal_width  petal_length  petal_width         species\n",
       "0             5.1          3.5           1.4          0.2     Iris-setosa\n",
       "1             4.9          3.0           1.4          0.2     Iris-setosa\n",
       "2             4.7          3.2           1.3          0.2     Iris-setosa\n",
       "3             4.6          3.1           1.5          0.2     Iris-setosa\n",
       "4             5.0          3.6           1.4          0.2     Iris-setosa\n",
       "..            ...          ...           ...          ...             ...\n",
       "145           6.7          3.0           5.2          2.3  Iris-virginica\n",
       "146           6.3          2.5           5.0          1.9  Iris-virginica\n",
       "147           6.5          3.0           5.2          2.0  Iris-virginica\n",
       "148           6.2          3.4           5.4          2.3  Iris-virginica\n",
       "149           5.9          3.0           5.1          1.8  Iris-virginica\n",
       "\n",
       "[150 rows x 5 columns]"
      ]
     },
     "execution_count": 6,
     "metadata": {},
     "output_type": "execute_result"
    }
   ],
   "source": [
    "df.head()"
   ]
  },
  {
   "cell_type": "code",
   "execution_count": 13,
   "metadata": {
    "id": "8DhwW3IFlx9j"
   },
   "outputs": [],
   "source": [
    "#As in given dataset [sepal_length,sepal_width,petal_length,petal_width] are the only numeric features,we will use them for boxplot creation\n",
    "features=[\"sepal_length\",\"sepal_width\",\"petal_length\",\"petal_width\"]"
   ]
  },
  {
   "cell_type": "code",
   "execution_count": 14,
   "metadata": {},
   "outputs": [
    {
     "data": {
      "image/png": "[encoded data removed]",
      "text/plain": [
       "<Figure size 640x480 with 1 Axes>"
      ]
     },
     "metadata": {},
     "output_type": "display_data"
    },
    {
     "data": {
      "image/png": "[encoded data removed]",
      "text/plain": [
       "<Figure size 640x480 with 1 Axes>"
      ]
     },
     "metadata": {},
     "output_type": "display_data"
    },
    {
     "data": {
      "image/png": "[encoded data removed]",
      "text/plain": [
       "<Figure size 640x480 with 1 Axes>"
      ]
     },
     "metadata": {},
     "output_type": "display_data"
    },
    {
     "data": {
      "image/png": "[encoded data removed]",
      "text/plain": [
       "<Figure size 640x480 with 1 Axes>"
      ]
     },
     "metadata": {},
     "output_type": "display_data"
    }
   ],
   "source": [
    "for feature in features:\n",
    "  sns.boxplot(df[feature])\n",
    "  plt.title(f\"Boxplot of {feature}\")\n",
    "  plt.show()"
   ]
  },
  {
   "cell_type": "markdown",
   "metadata": {
    "id": "y_G9bN1wmS8x"
   },
   "source": [
    "#As seen from above distribution,sepal width has 4 outliers,now we can idenfity those outliers using a simple fucntion\n",
    "\n",
    "For each feature:\n",
    "\n",
    "The IQR is computed.\n",
    "\n",
    "Rows in the DataFrame where the feature's value lies outside [Q1 - 1.5 * IQR, Q3 + 1.5 * IQR] are identified.\n",
    "\n",
    "Those rows are stored in the outliers DataFrame and printed.\n"
   ]
  },
  {
   "cell_type": "code",
   "execution_count": null,
   "metadata": {
    "colab": {
     "base_uri": "https://localhost:8080/"
    },
    "id": "IOhYhFZijev0",
    "outputId": "7b0a6531-5f2d-44d7-da36-bbb07b9acecc"
   },
   "outputs": [
    {
     "name": "stdout",
     "output_type": "stream",
     "text": [
      "\n",
      "Outliers in sepal_width:\n",
      "    sepal_width          species\n",
      "15          4.4      Iris-setosa\n",
      "32          4.1      Iris-setosa\n",
      "33          4.2      Iris-setosa\n",
      "60          2.0  Iris-versicolor\n"
     ]
    }
   ],
   "source": [
    "# Simple outlier detection\n",
    "def find_outliers(df, feature):\n",
    "    Q1 = df[feature].quantile(0.25) #represents 25% values are less than Q1\n",
    "    Q3 = df[feature].quantile(0.75) #represents 75% values are less than Q3\n",
    "    IQR = Q3 - Q1 #Interquartile Range (IQR)\n",
    "    outliers = df[(df[feature] < Q1 - 1.5 * IQR) |\n",
    "                  (df[feature] > Q3 + 1.5 * IQR)]\n",
    "    return outliers\n",
    "\n",
    "# Find and print outliers for each feature\n",
    "for feature in features:\n",
    "    outliers = find_outliers(df, feature)\n",
    "    if not outliers.empty:\n",
    "        print(f\"\\nOutliers in {feature}:\")\n",
    "        print(outliers[[feature, 'species']])"
   ]
  },
  {
   "cell_type": "markdown",
   "metadata": {},
   "source": [
    "#Just for better understanding of how to do it:"
   ]
  },
  {
   "cell_type": "code",
   "execution_count": 11,
   "metadata": {},
   "outputs": [
    {
     "name": "stdout",
     "output_type": "stream",
     "text": [
      "2.8\n",
      "3.3\n",
      "    sepal_length  sepal_width  petal_length  petal_width          species\n",
      "15           5.7          4.4           1.5          0.4      Iris-setosa\n",
      "32           5.2          4.1           1.5          0.1      Iris-setosa\n",
      "33           5.5          4.2           1.4          0.2      Iris-setosa\n",
      "60           5.0          2.0           3.5          1.0  Iris-versicolor\n"
     ]
    }
   ],
   "source": [
    "q1=df[\"sepal_width\"].quantile(0.25)\n",
    "q3=df[\"sepal_width\"].quantile(0.75)\n",
    "print(q1)\n",
    "print(q3)\n",
    "iqr=q3-q1\n",
    "lower_boundary=q1-(iqr*1.5)\n",
    "upper_boundary=q3+(iqr*1.5)\n",
    "outlier = df[(df[\"sepal_width\"] < lower_boundary) | (df[\"sepal_width\"] > upper_boundary)]\n",
    "print(outlier)"
   ]
  },
  {
   "cell_type": "markdown",
   "metadata": {},
   "source": [
    "#Code explanation:"
   ]
  },
  {
   "cell_type": "markdown",
   "metadata": {},
   "source": [
    "Compute Quartiles and IQR:\n",
    "\n",
    "The quantile() function calculates the 25th percentile (Q1) and 75th percentile (Q3) of the sepal_width column.\n",
    "The Interquartile Range (IQR) is the difference between Q3 and Q1:\n",
    "IQR=Q3−Q1\n",
    "This gives the range of the middle 50% of the data.\n",
    "Calculate Boundaries:\n",
    "The lower boundary is:\n",
    "Lower Boundary=Q1−(1.5×IQR)\n",
    "The upper boundary is:\n",
    "Upper Boundary=Q3+(1.5×IQR)\n",
    "These boundaries define the \"fence\" beyond which data points are considered outliers.\n",
    "\n",
    "#Note when there are so many rows in a single feature then why using \"df[(df[\"sepal_width\"] < lower_boundary) | (df[\"sepal_width\"] > upper_boundary)]\" this operation give us all the otuliers at  oncee??\n",
    "\n",
    "=>Pandas operates on entire columns (or Series) at once using vectorized operations. Instead of looping through each row individually, pandas checks the condition for all rows simultaneously and generates a boolean mask, which is then applied to filter the rows."
   ]
  }
 ],
 "metadata": {
  "colab": {
   "provenance": []
  },
  "kernelspec": {
   "display_name": "Python 3",
   "name": "python3"
  },
  "language_info": {
   "codemirror_mode": {
    "name": "ipython",
    "version": 3
   },
   "file_extension": ".py",
   "mimetype": "text/x-python",
   "name": "python",
   "nbconvert_exporter": "python",
   "pygments_lexer": "ipython3",
   "version": "3.12.5"
  }
 },
 "nbformat": 4,
 "nbformat_minor": 0
}
