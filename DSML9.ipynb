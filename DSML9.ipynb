{
 "cells": [
  {
   "cell_type": "code",
   "execution_count": 4,
   "metadata": {
    "colab": {
     "base_uri": "https://localhost:8080/"
    },
    "id": "xKA-I0bMVg6v",
    "outputId": "d2d489f7-00d7-41a6-c754-d4d3b4fe8a08"
   },
   "outputs": [
    {
     "name": "stdout",
     "output_type": "stream",
     "text": [
      "Cluster 1 (around m1): [[0.1  0.6 ]\n",
      " [0.15 0.71]\n",
      " [0.08 0.9 ]\n",
      " [0.16 0.85]\n",
      " [0.25 0.5 ]]\n",
      "Cluster 2 (around m2): [[0.2  0.3 ]\n",
      " [0.24 0.1 ]\n",
      " [0.3  0.2 ]]\n",
      "Updated centroid m1: [0.148 0.712]\n",
      "Updated centroid m2: [0.24666667 0.2       ]\n"
     ]
    }
   ],
   "source": [
    "import numpy as np\n",
    "\n",
    "# Points as given in the problem\n",
    "points = np.array([\n",
    "    [0.1, 0.6],  # P1\n",
    "    [0.15, 0.71],  # P2\n",
    "    [0.08, 0.9],  # P3\n",
    "    [0.16, 0.85],  # P4\n",
    "    [0.2, 0.3],  # P5\n",
    "    [0.25, 0.5],  # P6\n",
    "    [0.24, 0.1],  # P7\n",
    "    [0.3, 0.2]   # P8\n",
    "])\n",
    "\n",
    "\n",
    "# Initial centroids\n",
    "m1 = points[0]  # P1\n",
    "m2 = points[7]  # P8\n",
    "\n",
    "# Function to calculate Euclidean distance\n",
    "def euclidean_distance(point, centroid):\n",
    "    return np.sqrt(np.sum((point - centroid) ** 2))\n",
    "# Perform one iteration of k-means\n",
    "def k_means_iteration(points, m1, m2):\n",
    "    cluster1, cluster2 = [], []\n",
    "    for point in points:\n",
    "        # Calculate distances to centroids\n",
    "        dist_to_m1 = euclidean_distance(point, m1)\n",
    "        dist_to_m2 = euclidean_distance(point, m2)\n",
    "        # Assign point to the nearest cluster\n",
    "        if dist_to_m1 < dist_to_m2:\n",
    "            cluster1.append(point)\n",
    "        else:\n",
    "            cluster2.append(point)\n",
    "    # Update centroids\n",
    "    new_m1 = np.mean(cluster1, axis=0) if cluster1 else m1\n",
    "    new_m2 = np.mean(cluster2, axis=0) if cluster2 else m2\n",
    "    return np.array(cluster1), np.array(cluster2), new_m1, new_m2\n",
    "# Run one iteration\n",
    "cluster1, cluster2, new_m1, new_m2 = k_means_iteration(points, m1, m2)\n",
    "\n",
    "\n",
    "# Results\n",
    "print(\"Cluster 1 (around m1):\", cluster1)\n",
    "print(\"Cluster 2 (around m2):\", cluster2)\n",
    "print(\"Updated centroid m1:\", new_m1)\n",
    "print(\"Updated centroid m2:\", new_m2)"
   ]
  },
  {
   "cell_type": "markdown",
   "metadata": {},
   "source": [
    "  #np.mean(cluster1, axis=0):\n",
    "\n",
    "Calculates the mean of all points in cluster1.\n",
    "xis=0 means the mean is computed column-wise (separately for x and y coordinates).\n",
    "\n",
    "if cluster1 else m1:\n",
    "Checks if cluster1 is non-empty.\n",
    "If cluster1 contains points, the centroid is updated to the mean of these points.\n",
    "If cluster1 is empty (no points are assigned to the cluster), the centroid remains unchanged (m1).\n"
   ]
  },
  {
   "cell_type": "markdown",
   "metadata": {
    "id": "HzNy3uY_X9pX"
   },
   "source": [
    "#Questions based on above results"
   ]
  },
  {
   "cell_type": "markdown",
   "metadata": {
    "id": "3FBln7VnYJiT"
   },
   "source": [
    "#1.Which cluster does P6[0.25,0.5] belong to?\n",
    "Ans=P6 belongs to cluster m1\n",
    "#2. What is the population of a cluster around m2?\n",
    "Ans=3 (i.e p5,p7,p8 three data points are present in cluster m2)\n",
    "#3. What is the updated value of m1 and m2?\n",
    "Ans=From above resuls,\n",
    "Updated centroid m1: [0.148, 0.712]\n",
    "Updated centroid m2: [0.24666667, 0.2]"
   ]
  }
 ],
 "metadata": {
  "colab": {
   "provenance": []
  },
  "kernelspec": {
   "display_name": "Python 3",
   "name": "python3"
  },
  "language_info": {
   "codemirror_mode": {
    "name": "ipython",
    "version": 3
   },
   "file_extension": ".py",
   "mimetype": "text/x-python",
   "name": "python",
   "nbconvert_exporter": "python",
   "pygments_lexer": "ipython3",
   "version": "3.12.5"
  }
 },
 "nbformat": 4,
 "nbformat_minor": 0
}
