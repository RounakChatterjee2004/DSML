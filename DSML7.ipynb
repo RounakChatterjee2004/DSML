{
  "nbformat": 4,
  "nbformat_minor": 0,
  "metadata": {
    "colab": {
      "provenance": []
    },
    "kernelspec": {
      "name": "python3",
      "display_name": "Python 3"
    },
    "language_info": {
      "name": "python"
    }
  },
  "cells": [
    {
      "cell_type": "code",
      "execution_count": 1,
      "metadata": {
        "id": "gR6jH7mjcE5b",
        "colab": {
          "base_uri": "https://localhost:8080/"
        },
        "outputId": "3d5cbf3b-9a19-45ec-c835-ba10cfa79f19"
      },
      "outputs": [
        {
          "output_type": "stream",
          "name": "stdout",
          "text": [
            "    Id  Age  Income  Gender  Ms\n",
            "0    0    1       0       1   1\n",
            "1    1    1       0       1   0\n",
            "2    2    0       0       1   1\n",
            "3    3    2       2       1   1\n",
            "4    4    2       1       0   1\n",
            "5    5    2       1       0   0\n",
            "6    6    0       1       0   0\n",
            "7    7    1       2       1   1\n",
            "8    8    1       1       0   0\n",
            "9    9    2       2       0   1\n",
            "10  10    1       2       0   0\n",
            "11  11    0       2       1   0\n",
            "12  12    0       0       0   1\n",
            "13  13    2       2       1   0\n",
            "Prediction ['No']\n"
          ]
        },
        {
          "output_type": "stream",
          "name": "stderr",
          "text": [
            "/usr/local/lib/python3.10/dist-packages/sklearn/base.py:493: UserWarning: X does not have valid feature names, but DecisionTreeClassifier was fitted with feature names\n",
            "  warnings.warn(\n"
          ]
        }
      ],
      "source": [
        "import numpy as np\n",
        "import pandas as pd\n",
        "\n",
        "#reading dataset\n",
        "data=pd.read_csv(\"/content/Lipstick.csv\")\n",
        "x=data.iloc[:,:-1]\n",
        "y=data.iloc[:,5].values\n",
        "\n",
        "#perform label encoding\n",
        "from sklearn.preprocessing import LabelEncoder\n",
        "label_encoder_X=LabelEncoder()\n",
        "\n",
        "x=x.apply(LabelEncoder().fit_transform)\n",
        "print(x)\n",
        "\n",
        "from sklearn.tree import DecisionTreeClassifier\n",
        "classifier=DecisionTreeClassifier()\n",
        "classifier.fit(x.iloc[:,1:5],y)\n",
        "\n",
        "#Predixt value for the given expression\n",
        "#Test Data: : [Age > 35, Income = Medium, Gender = Female, Marital Status = Married]\n",
        "#age:>35(here in label encoding it is 2),Medium income=2, Gender =Female is 0 and married=0\n",
        "x_in=np.array([2,2,0,0])\n",
        "\n",
        "y_pred=classifier.predict([x_in])\n",
        "print(\"Prediction\",y_pred)"
      ]
    }
  ]
}