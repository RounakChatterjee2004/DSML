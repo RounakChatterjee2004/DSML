{
 "cells": [
  {
   "cell_type": "code",
   "execution_count": 4,
   "metadata": {
    "colab": {
     "base_uri": "https://localhost:8080/"
    },
    "id": "stt74TZUZRYd",
    "outputId": "a5b7e179-23d9-4d38-b1d2-d9a74c21708e"
   },
   "outputs": [
    {
     "name": "stdout",
     "output_type": "stream",
     "text": [
      "    Age  Income  Gender  Ms\n",
      "0     1       0       1   1\n",
      "1     1       0       1   0\n",
      "2     0       0       1   1\n",
      "3     2       2       1   1\n",
      "4     2       1       0   1\n",
      "5     2       1       0   0\n",
      "6     0       1       0   0\n",
      "7     1       2       1   1\n",
      "8     1       1       0   0\n",
      "9     2       2       0   1\n",
      "10    1       2       0   0\n",
      "11    0       2       1   0\n",
      "12    0       0       0   1\n",
      "13    2       2       1   0\n",
      "Prediction ['Yes']\n"
     ]
    },
    {
     "name": "stderr",
     "output_type": "stream",
     "text": [
      "c:\\Users\\Sohel's PC\\AppData\\Local\\Programs\\Python\\Python312\\Lib\\site-packages\\sklearn\\base.py:493: UserWarning: X does not have valid feature names, but DecisionTreeClassifier was fitted with feature names\n",
      "  warnings.warn(\n"
     ]
    }
   ],
   "source": [
    "import numpy as np\n",
    "import pandas as pd\n",
    "\n",
    "#reading dataset\n",
    "data=pd.read_csv(\"C:/Users/Sohel's PC/Desktop/DSML_Practical/Datasets(1)/Datasets/Lipstick.csv\")\n",
    "x=data.loc[:,\"Age\":\"Ms\"]\n",
    "y=data.loc[:,\"Buys\"]\n",
    "#perform label encoding\n",
    "from sklearn.preprocessing import LabelEncoder\n",
    "label_encoder_X=LabelEncoder()\n",
    "\n",
    "x=x.apply(LabelEncoder().fit_transform)\n",
    "print(x)\n",
    "\n",
    "from sklearn.tree import DecisionTreeClassifier\n",
    "classifier=DecisionTreeClassifier()\n",
    "classifier.fit(x,y)\n",
    "\n",
    "#Predixt value for the given expression\n",
    "#Test Data: : [Age > 35, Income =Medium, Gender = Female, Marital Status = Married]?\n",
    "#age:>35(here in label encoding it is 2),Medium income=2, Gender =Female is 0 and married=0\n",
    "x_in=np.array([2,2,0,0])\n",
    "\n",
    "y_pred=classifier.predict([x_in])\n",
    "print(\"Prediction\",y_pred)"
   ]
  },
  {
   "cell_type": "code",
   "execution_count": null,
   "metadata": {
    "id": "FaevbmNUbxMg"
   },
   "outputs": [],
   "source": []
  }
 ],
 "metadata": {
  "colab": {
   "provenance": []
  },
  "kernelspec": {
   "display_name": "Python 3",
   "name": "python3"
  },
  "language_info": {
   "codemirror_mode": {
    "name": "ipython",
    "version": 3
   },
   "file_extension": ".py",
   "mimetype": "text/x-python",
   "name": "python",
   "nbconvert_exporter": "python",
   "pygments_lexer": "ipython3",
   "version": "3.12.5"
  }
 },
 "nbformat": 4,
 "nbformat_minor": 0
}
