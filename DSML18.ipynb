{
  "nbformat": 4,
  "nbformat_minor": 0,
  "metadata": {
    "colab": {
      "provenance": []
    },
    "kernelspec": {
      "name": "python3",
      "display_name": "Python 3"
    },
    "language_info": {
      "name": "python"
    }
  },
  "cells": [
    {
      "cell_type": "code",
      "execution_count": null,
      "metadata": {
        "id": "LDHw6mQuGQYt"
      },
      "outputs": [],
      "source": [
        "import pandas as pd\n",
        "df=pd.read_csv(\"/content/House Data.csv\")"
      ]
    },
    {
      "cell_type": "code",
      "source": [
        "df.head()"
      ],
      "metadata": {
        "colab": {
          "base_uri": "https://localhost:8080/",
          "height": 620
        },
        "id": "9BhMfGJHHHIp",
        "outputId": "cd6674c7-3988-496f-c853-5369eb9231c7"
      },
      "execution_count": null,
      "outputs": [
        {
          "output_type": "execute_result",
          "data": {
            "text/plain": [
              "   Unnamed: 0 district         price  \\\n",
              "0           0   adalar   3,100,000TL   \n",
              "1           1   adalar   1,600,000TL   \n",
              "2           2   adalar  18,500,000TL   \n",
              "3           3   adalar   9,500,000TL   \n",
              "4           4   adalar  25,000,000TL   \n",
              "\n",
              "                                             address   AdUpdateDate Category  \\\n",
              "0  ['Anasayfa', 'Satılık Daire', 'İstanbul Satılı...  24 Şubat 2022  Satılık   \n",
              "1  ['Anasayfa', 'Satılık Daire', 'İstanbul Satılı...   02 Mart 2022  Satılık   \n",
              "2  ['Anasayfa', 'Satılık Müstakil Ev', 'İstanbul ...  11 Şubat 2022  Satılık   \n",
              "3  ['Anasayfa', 'Satılık Bina', 'İstanbul Satılık...  11 Şubat 2022  Satılık   \n",
              "4  ['Anasayfa', 'Satılık Köşk', 'İstanbul Satılık...   19 Ocak 2022  Satılık   \n",
              "\n",
              "  GrossSquareMeters  BuildingAge  NumberFloorsofBuilding  \\\n",
              "0            160 m2  21 Ve Üzeri                       3   \n",
              "1            120 m2         5-10                       3   \n",
              "2            350 m2  21 Ve Üzeri                       2   \n",
              "3            550 m2        11-15                       3   \n",
              "4            840 m2  21 Ve Üzeri                       4   \n",
              "\n",
              "            UsingStatus  ...  PriceStatus RentalIncome NumberOfBalconies  \\\n",
              "0  Mülk Sahibi Oturuyor  ...  Genel Fiyat          NaN               NaN   \n",
              "1  Mülk Sahibi Oturuyor  ...  Genel Fiyat          NaN               NaN   \n",
              "2  Mülk Sahibi Oturuyor  ...  Genel Fiyat          NaN               NaN   \n",
              "3  Mülk Sahibi Oturuyor  ...  Genel Fiyat          NaN               NaN   \n",
              "4                   Boş  ...  Genel Fiyat          NaN               NaN   \n",
              "\n",
              "  BalconyType HallSquareMeters WCSquareMeters IsItVideoNavigable?  \\\n",
              "0         NaN              NaN            NaN                 NaN   \n",
              "1         NaN              NaN            NaN                 NaN   \n",
              "2         NaN              NaN            NaN                 NaN   \n",
              "3         NaN              NaN            NaN                 NaN   \n",
              "4         NaN              NaN            NaN                 NaN   \n",
              "\n",
              "  Subscription BathroomSquareMeters BalconySquareMeters  \n",
              "0          NaN                  NaN                 NaN  \n",
              "1          NaN                  NaN                 NaN  \n",
              "2          NaN                  NaN                 NaN  \n",
              "3          NaN                  NaN                 NaN  \n",
              "4          NaN                  NaN                 NaN  \n",
              "\n",
              "[5 rows x 38 columns]"
            ],
            "text/html": [
              "\n",
              "  <div id=\"df-22367ba1-0707-46cf-a947-e3873d3ad966\" class=\"colab-df-container\">\n",
              "    <div>\n",
              "<style scoped>\n",
              "    .dataframe tbody tr th:only-of-type {\n",
              "        vertical-align: middle;\n",
              "    }\n",
              "\n",
              "    .dataframe tbody tr th {\n",
              "        vertical-align: top;\n",
              "    }\n",
              "\n",
              "    .dataframe thead th {\n",
              "        text-align: right;\n",
              "    }\n",
              "</style>\n",
              "<table border=\"1\" class=\"dataframe\">\n",
              "  <thead>\n",
              "    <tr style=\"text-align: right;\">\n",
              "      <th></th>\n",
              "      <th>Unnamed: 0</th>\n",
              "      <th>district</th>\n",
              "      <th>price</th>\n",
              "      <th>address</th>\n",
              "      <th>AdUpdateDate</th>\n",
              "      <th>Category</th>\n",
              "      <th>GrossSquareMeters</th>\n",
              "      <th>BuildingAge</th>\n",
              "      <th>NumberFloorsofBuilding</th>\n",
              "      <th>UsingStatus</th>\n",
              "      <th>...</th>\n",
              "      <th>PriceStatus</th>\n",
              "      <th>RentalIncome</th>\n",
              "      <th>NumberOfBalconies</th>\n",
              "      <th>BalconyType</th>\n",
              "      <th>HallSquareMeters</th>\n",
              "      <th>WCSquareMeters</th>\n",
              "      <th>IsItVideoNavigable?</th>\n",
              "      <th>Subscription</th>\n",
              "      <th>BathroomSquareMeters</th>\n",
              "      <th>BalconySquareMeters</th>\n",
              "    </tr>\n",
              "  </thead>\n",
              "  <tbody>\n",
              "    <tr>\n",
              "      <th>0</th>\n",
              "      <td>0</td>\n",
              "      <td>adalar</td>\n",
              "      <td>3,100,000TL</td>\n",
              "      <td>['Anasayfa', 'Satılık Daire', 'İstanbul Satılı...</td>\n",
              "      <td>24 Şubat 2022</td>\n",
              "      <td>Satılık</td>\n",
              "      <td>160 m2</td>\n",
              "      <td>21 Ve Üzeri</td>\n",
              "      <td>3</td>\n",
              "      <td>Mülk Sahibi Oturuyor</td>\n",
              "      <td>...</td>\n",
              "      <td>Genel Fiyat</td>\n",
              "      <td>NaN</td>\n",
              "      <td>NaN</td>\n",
              "      <td>NaN</td>\n",
              "      <td>NaN</td>\n",
              "      <td>NaN</td>\n",
              "      <td>NaN</td>\n",
              "      <td>NaN</td>\n",
              "      <td>NaN</td>\n",
              "      <td>NaN</td>\n",
              "    </tr>\n",
              "    <tr>\n",
              "      <th>1</th>\n",
              "      <td>1</td>\n",
              "      <td>adalar</td>\n",
              "      <td>1,600,000TL</td>\n",
              "      <td>['Anasayfa', 'Satılık Daire', 'İstanbul Satılı...</td>\n",
              "      <td>02 Mart 2022</td>\n",
              "      <td>Satılık</td>\n",
              "      <td>120 m2</td>\n",
              "      <td>5-10</td>\n",
              "      <td>3</td>\n",
              "      <td>Mülk Sahibi Oturuyor</td>\n",
              "      <td>...</td>\n",
              "      <td>Genel Fiyat</td>\n",
              "      <td>NaN</td>\n",
              "      <td>NaN</td>\n",
              "      <td>NaN</td>\n",
              "      <td>NaN</td>\n",
              "      <td>NaN</td>\n",
              "      <td>NaN</td>\n",
              "      <td>NaN</td>\n",
              "      <td>NaN</td>\n",
              "      <td>NaN</td>\n",
              "    </tr>\n",
              "    <tr>\n",
              "      <th>2</th>\n",
              "      <td>2</td>\n",
              "      <td>adalar</td>\n",
              "      <td>18,500,000TL</td>\n",
              "      <td>['Anasayfa', 'Satılık Müstakil Ev', 'İstanbul ...</td>\n",
              "      <td>11 Şubat 2022</td>\n",
              "      <td>Satılık</td>\n",
              "      <td>350 m2</td>\n",
              "      <td>21 Ve Üzeri</td>\n",
              "      <td>2</td>\n",
              "      <td>Mülk Sahibi Oturuyor</td>\n",
              "      <td>...</td>\n",
              "      <td>Genel Fiyat</td>\n",
              "      <td>NaN</td>\n",
              "      <td>NaN</td>\n",
              "      <td>NaN</td>\n",
              "      <td>NaN</td>\n",
              "      <td>NaN</td>\n",
              "      <td>NaN</td>\n",
              "      <td>NaN</td>\n",
              "      <td>NaN</td>\n",
              "      <td>NaN</td>\n",
              "    </tr>\n",
              "    <tr>\n",
              "      <th>3</th>\n",
              "      <td>3</td>\n",
              "      <td>adalar</td>\n",
              "      <td>9,500,000TL</td>\n",
              "      <td>['Anasayfa', 'Satılık Bina', 'İstanbul Satılık...</td>\n",
              "      <td>11 Şubat 2022</td>\n",
              "      <td>Satılık</td>\n",
              "      <td>550 m2</td>\n",
              "      <td>11-15</td>\n",
              "      <td>3</td>\n",
              "      <td>Mülk Sahibi Oturuyor</td>\n",
              "      <td>...</td>\n",
              "      <td>Genel Fiyat</td>\n",
              "      <td>NaN</td>\n",
              "      <td>NaN</td>\n",
              "      <td>NaN</td>\n",
              "      <td>NaN</td>\n",
              "      <td>NaN</td>\n",
              "      <td>NaN</td>\n",
              "      <td>NaN</td>\n",
              "      <td>NaN</td>\n",
              "      <td>NaN</td>\n",
              "    </tr>\n",
              "    <tr>\n",
              "      <th>4</th>\n",
              "      <td>4</td>\n",
              "      <td>adalar</td>\n",
              "      <td>25,000,000TL</td>\n",
              "      <td>['Anasayfa', 'Satılık Köşk', 'İstanbul Satılık...</td>\n",
              "      <td>19 Ocak 2022</td>\n",
              "      <td>Satılık</td>\n",
              "      <td>840 m2</td>\n",
              "      <td>21 Ve Üzeri</td>\n",
              "      <td>4</td>\n",
              "      <td>Boş</td>\n",
              "      <td>...</td>\n",
              "      <td>Genel Fiyat</td>\n",
              "      <td>NaN</td>\n",
              "      <td>NaN</td>\n",
              "      <td>NaN</td>\n",
              "      <td>NaN</td>\n",
              "      <td>NaN</td>\n",
              "      <td>NaN</td>\n",
              "      <td>NaN</td>\n",
              "      <td>NaN</td>\n",
              "      <td>NaN</td>\n",
              "    </tr>\n",
              "  </tbody>\n",
              "</table>\n",
              "<p>5 rows × 38 columns</p>\n",
              "</div>\n",
              "    <div class=\"colab-df-buttons\">\n",
              "\n",
              "  <div class=\"colab-df-container\">\n",
              "    <button class=\"colab-df-convert\" onclick=\"convertToInteractive('df-22367ba1-0707-46cf-a947-e3873d3ad966')\"\n",
              "            title=\"Convert this dataframe to an interactive table.\"\n",
              "            style=\"display:none;\">\n",
              "\n",
              "  <svg xmlns=\"http://www.w3.org/2000/svg\" height=\"24px\" viewBox=\"0 -960 960 960\">\n",
              "    <path d=\"M120-120v-720h720v720H120Zm60-500h600v-160H180v160Zm220 220h160v-160H400v160Zm0 220h160v-160H400v160ZM180-400h160v-160H180v160Zm440 0h160v-160H620v160ZM180-180h160v-160H180v160Zm440 0h160v-160H620v160Z\"/>\n",
              "  </svg>\n",
              "    </button>\n",
              "\n",
              "  <style>\n",
              "    .colab-df-container {\n",
              "      display:flex;\n",
              "      gap: 12px;\n",
              "    }\n",
              "\n",
              "    .colab-df-convert {\n",
              "      background-color: #E8F0FE;\n",
              "      border: none;\n",
              "      border-radius: 50%;\n",
              "      cursor: pointer;\n",
              "      display: none;\n",
              "      fill: #1967D2;\n",
              "      height: 32px;\n",
              "      padding: 0 0 0 0;\n",
              "      width: 32px;\n",
              "    }\n",
              "\n",
              "    .colab-df-convert:hover {\n",
              "      background-color: #E2EBFA;\n",
              "      box-shadow: 0px 1px 2px rgba(60, 64, 67, 0.3), 0px 1px 3px 1px rgba(60, 64, 67, 0.15);\n",
              "      fill: #174EA6;\n",
              "    }\n",
              "\n",
              "    .colab-df-buttons div {\n",
              "      margin-bottom: 4px;\n",
              "    }\n",
              "\n",
              "    [theme=dark] .colab-df-convert {\n",
              "      background-color: #3B4455;\n",
              "      fill: #D2E3FC;\n",
              "    }\n",
              "\n",
              "    [theme=dark] .colab-df-convert:hover {\n",
              "      background-color: #434B5C;\n",
              "      box-shadow: 0px 1px 3px 1px rgba(0, 0, 0, 0.15);\n",
              "      filter: drop-shadow(0px 1px 2px rgba(0, 0, 0, 0.3));\n",
              "      fill: #FFFFFF;\n",
              "    }\n",
              "  </style>\n",
              "\n",
              "    <script>\n",
              "      const buttonEl =\n",
              "        document.querySelector('#df-22367ba1-0707-46cf-a947-e3873d3ad966 button.colab-df-convert');\n",
              "      buttonEl.style.display =\n",
              "        google.colab.kernel.accessAllowed ? 'block' : 'none';\n",
              "\n",
              "      async function convertToInteractive(key) {\n",
              "        const element = document.querySelector('#df-22367ba1-0707-46cf-a947-e3873d3ad966');\n",
              "        const dataTable =\n",
              "          await google.colab.kernel.invokeFunction('convertToInteractive',\n",
              "                                                    [key], {});\n",
              "        if (!dataTable) return;\n",
              "\n",
              "        const docLinkHtml = 'Like what you see? Visit the ' +\n",
              "          '<a target=\"_blank\" href=https://colab.research.google.com/notebooks/data_table.ipynb>data table notebook</a>'\n",
              "          + ' to learn more about interactive tables.';\n",
              "        element.innerHTML = '';\n",
              "        dataTable['output_type'] = 'display_data';\n",
              "        await google.colab.output.renderOutput(dataTable, element);\n",
              "        const docLink = document.createElement('div');\n",
              "        docLink.innerHTML = docLinkHtml;\n",
              "        element.appendChild(docLink);\n",
              "      }\n",
              "    </script>\n",
              "  </div>\n",
              "\n",
              "\n",
              "<div id=\"df-86bceedd-4653-4831-b3bd-83334fe45314\">\n",
              "  <button class=\"colab-df-quickchart\" onclick=\"quickchart('df-86bceedd-4653-4831-b3bd-83334fe45314')\"\n",
              "            title=\"Suggest charts\"\n",
              "            style=\"display:none;\">\n",
              "\n",
              "<svg xmlns=\"http://www.w3.org/2000/svg\" height=\"24px\"viewBox=\"0 0 24 24\"\n",
              "     width=\"24px\">\n",
              "    <g>\n",
              "        <path d=\"M19 3H5c-1.1 0-2 .9-2 2v14c0 1.1.9 2 2 2h14c1.1 0 2-.9 2-2V5c0-1.1-.9-2-2-2zM9 17H7v-7h2v7zm4 0h-2V7h2v10zm4 0h-2v-4h2v4z\"/>\n",
              "    </g>\n",
              "</svg>\n",
              "  </button>\n",
              "\n",
              "<style>\n",
              "  .colab-df-quickchart {\n",
              "      --bg-color: #E8F0FE;\n",
              "      --fill-color: #1967D2;\n",
              "      --hover-bg-color: #E2EBFA;\n",
              "      --hover-fill-color: #174EA6;\n",
              "      --disabled-fill-color: #AAA;\n",
              "      --disabled-bg-color: #DDD;\n",
              "  }\n",
              "\n",
              "  [theme=dark] .colab-df-quickchart {\n",
              "      --bg-color: #3B4455;\n",
              "      --fill-color: #D2E3FC;\n",
              "      --hover-bg-color: #434B5C;\n",
              "      --hover-fill-color: #FFFFFF;\n",
              "      --disabled-bg-color: #3B4455;\n",
              "      --disabled-fill-color: #666;\n",
              "  }\n",
              "\n",
              "  .colab-df-quickchart {\n",
              "    background-color: var(--bg-color);\n",
              "    border: none;\n",
              "    border-radius: 50%;\n",
              "    cursor: pointer;\n",
              "    display: none;\n",
              "    fill: var(--fill-color);\n",
              "    height: 32px;\n",
              "    padding: 0;\n",
              "    width: 32px;\n",
              "  }\n",
              "\n",
              "  .colab-df-quickchart:hover {\n",
              "    background-color: var(--hover-bg-color);\n",
              "    box-shadow: 0 1px 2px rgba(60, 64, 67, 0.3), 0 1px 3px 1px rgba(60, 64, 67, 0.15);\n",
              "    fill: var(--button-hover-fill-color);\n",
              "  }\n",
              "\n",
              "  .colab-df-quickchart-complete:disabled,\n",
              "  .colab-df-quickchart-complete:disabled:hover {\n",
              "    background-color: var(--disabled-bg-color);\n",
              "    fill: var(--disabled-fill-color);\n",
              "    box-shadow: none;\n",
              "  }\n",
              "\n",
              "  .colab-df-spinner {\n",
              "    border: 2px solid var(--fill-color);\n",
              "    border-color: transparent;\n",
              "    border-bottom-color: var(--fill-color);\n",
              "    animation:\n",
              "      spin 1s steps(1) infinite;\n",
              "  }\n",
              "\n",
              "  @keyframes spin {\n",
              "    0% {\n",
              "      border-color: transparent;\n",
              "      border-bottom-color: var(--fill-color);\n",
              "      border-left-color: var(--fill-color);\n",
              "    }\n",
              "    20% {\n",
              "      border-color: transparent;\n",
              "      border-left-color: var(--fill-color);\n",
              "      border-top-color: var(--fill-color);\n",
              "    }\n",
              "    30% {\n",
              "      border-color: transparent;\n",
              "      border-left-color: var(--fill-color);\n",
              "      border-top-color: var(--fill-color);\n",
              "      border-right-color: var(--fill-color);\n",
              "    }\n",
              "    40% {\n",
              "      border-color: transparent;\n",
              "      border-right-color: var(--fill-color);\n",
              "      border-top-color: var(--fill-color);\n",
              "    }\n",
              "    60% {\n",
              "      border-color: transparent;\n",
              "      border-right-color: var(--fill-color);\n",
              "    }\n",
              "    80% {\n",
              "      border-color: transparent;\n",
              "      border-right-color: var(--fill-color);\n",
              "      border-bottom-color: var(--fill-color);\n",
              "    }\n",
              "    90% {\n",
              "      border-color: transparent;\n",
              "      border-bottom-color: var(--fill-color);\n",
              "    }\n",
              "  }\n",
              "</style>\n",
              "\n",
              "  <script>\n",
              "    async function quickchart(key) {\n",
              "      const quickchartButtonEl =\n",
              "        document.querySelector('#' + key + ' button');\n",
              "      quickchartButtonEl.disabled = true;  // To prevent multiple clicks.\n",
              "      quickchartButtonEl.classList.add('colab-df-spinner');\n",
              "      try {\n",
              "        const charts = await google.colab.kernel.invokeFunction(\n",
              "            'suggestCharts', [key], {});\n",
              "      } catch (error) {\n",
              "        console.error('Error during call to suggestCharts:', error);\n",
              "      }\n",
              "      quickchartButtonEl.classList.remove('colab-df-spinner');\n",
              "      quickchartButtonEl.classList.add('colab-df-quickchart-complete');\n",
              "    }\n",
              "    (() => {\n",
              "      let quickchartButtonEl =\n",
              "        document.querySelector('#df-86bceedd-4653-4831-b3bd-83334fe45314 button');\n",
              "      quickchartButtonEl.style.display =\n",
              "        google.colab.kernel.accessAllowed ? 'block' : 'none';\n",
              "    })();\n",
              "  </script>\n",
              "</div>\n",
              "\n",
              "    </div>\n",
              "  </div>\n"
            ],
            "application/vnd.google.colaboratory.intrinsic+json": {
              "type": "dataframe",
              "variable_name": "df"
            }
          },
          "metadata": {},
          "execution_count": 2
        }
      ]
    },
    {
      "cell_type": "code",
      "source": [
        "df.info()"
      ],
      "metadata": {
        "colab": {
          "base_uri": "https://localhost:8080/"
        },
        "id": "eyaclGldHm_e",
        "outputId": "80908f2c-4d2f-4a1f-f1f9-8891490d7227"
      },
      "execution_count": null,
      "outputs": [
        {
          "output_type": "stream",
          "name": "stdout",
          "text": [
            "<class 'pandas.core.frame.DataFrame'>\n",
            "RangeIndex: 25155 entries, 0 to 25154\n",
            "Data columns (total 38 columns):\n",
            " #   Column                    Non-Null Count  Dtype \n",
            "---  ------                    --------------  ----- \n",
            " 0   Unnamed: 0                25155 non-null  int64 \n",
            " 1   district                  25155 non-null  object\n",
            " 2   price                     25155 non-null  object\n",
            " 3   address                   25155 non-null  object\n",
            " 4   AdUpdateDate              25155 non-null  object\n",
            " 5   Category                  25155 non-null  object\n",
            " 6   GrossSquareMeters         25155 non-null  object\n",
            " 7   BuildingAge               25155 non-null  object\n",
            " 8   NumberFloorsofBuilding    25155 non-null  int64 \n",
            " 9   UsingStatus               25155 non-null  object\n",
            " 10  EligibilityForInvestment  21506 non-null  object\n",
            " 11  BuildStatus               11231 non-null  object\n",
            " 12  TitleStatus               9712 non-null   object\n",
            " 13  ItemStatus                18332 non-null  object\n",
            " 14  NumberOfBathrooms         25155 non-null  object\n",
            " 15  NumberOfWCs               8129 non-null   object\n",
            " 16  AdCreationDate            25155 non-null  object\n",
            " 17  Type                      25155 non-null  object\n",
            " 18  NetSquareMeters           25155 non-null  object\n",
            " 19  NumberOfRooms             25155 non-null  object\n",
            " 20  FloorLocation             25155 non-null  object\n",
            " 21  HeatingType               25155 non-null  object\n",
            " 22  CreditEligibility         25155 non-null  object\n",
            " 23  InsideTheSite             25155 non-null  object\n",
            " 24  StructureType             10406 non-null  object\n",
            " 25  MortgageStatus            6058 non-null   object\n",
            " 26  Swap                      20839 non-null  object\n",
            " 27  Balcony                   9109 non-null   object\n",
            " 28  PriceStatus               25155 non-null  object\n",
            " 29  RentalIncome              5815 non-null   object\n",
            " 30  NumberOfBalconies         5324 non-null   object\n",
            " 31  BalconyType               4720 non-null   object\n",
            " 32  HallSquareMeters          1433 non-null   object\n",
            " 33  WCSquareMeters            865 non-null    object\n",
            " 34  IsItVideoNavigable?       5481 non-null   object\n",
            " 35  Subscription              4488 non-null   object\n",
            " 36  BathroomSquareMeters      1112 non-null   object\n",
            " 37  BalconySquareMeters       1040 non-null   object\n",
            "dtypes: int64(2), object(36)\n",
            "memory usage: 7.3+ MB\n"
          ]
        }
      ]
    },
    {
      "cell_type": "markdown",
      "source": [
        "#As you can see,only NumberFloorsofBuilding is the numeric column while others are non-numeric so we will do statistics of numeric column first and than we will group categorical columns with this numerical columns to provide summary statistics"
      ],
      "metadata": {
        "id": "cb3lWnHPVQjQ"
      }
    },
    {
      "cell_type": "code",
      "source": [
        "# Calculate statistics for the numeric column\n",
        "numeric_stats = df[\"NumberFloorsofBuilding\"].describe()\n",
        "\n",
        "print(numeric_stats)"
      ],
      "metadata": {
        "colab": {
          "base_uri": "https://localhost:8080/"
        },
        "id": "bH9SUDkGUgpN",
        "outputId": "4e816ff7-fb54-4800-bf7b-50733b8e2e91"
      },
      "execution_count": null,
      "outputs": [
        {
          "output_type": "stream",
          "name": "stdout",
          "text": [
            "count    25155.000000\n",
            "mean         7.757782\n",
            "std          6.952397\n",
            "min          1.000000\n",
            "25%          4.000000\n",
            "50%          5.000000\n",
            "75%          8.000000\n",
            "max         71.000000\n",
            "Name: NumberFloorsofBuilding, dtype: float64\n"
          ]
        }
      ]
    },
    {
      "cell_type": "code",
      "source": [
        "# Group by categorical columns and calculate summary statistics\n",
        "summary = df.groupby(\"Category\")[\"NumberFloorsofBuilding\"].agg([\"mean\", \"median\", \"min\", \"max\", \"count\"])\n",
        "\n",
        "print(summary)"
      ],
      "metadata": {
        "colab": {
          "base_uri": "https://localhost:8080/"
        },
        "id": "PlosgT6bUgoG",
        "outputId": "690c1fc7-eff5-49ae-82f8-6cdb0148a29e"
      },
      "execution_count": 24,
      "outputs": [
        {
          "output_type": "stream",
          "name": "stdout",
          "text": [
            "              mean  median  min  max  count\n",
            "Category                                   \n",
            "Satılık   7.757782     5.0    1   71  25155\n"
          ]
        }
      ]
    },
    {
      "cell_type": "code",
      "source": [
        "# Group by 'BalconyType\t' and calculate statistics\n",
        "BalconyType_stats = df.groupby(\"BalconyType\")[\"NumberFloorsofBuilding\"].agg([\"mean\", \"median\", \"min\", \"max\", \"count\"])\n",
        "\n",
        "print(BalconyType_stats)"
      ],
      "metadata": {
        "colab": {
          "base_uri": "https://localhost:8080/"
        },
        "id": "-D_ofgDuVvOC",
        "outputId": "2054583a-00eb-4bcc-dcf8-f28ad2beb7ee"
      },
      "execution_count": 23,
      "outputs": [
        {
          "output_type": "stream",
          "name": "stdout",
          "text": [
            "                    mean  median  min  max  count\n",
            "BalconyType                                      \n",
            "Açık Balkon     6.275161     5.0    1   42   3100\n",
            "Açık Teras      5.409226     4.0    1   40    672\n",
            "Fransız Balkon  8.619718     6.0    1   30     71\n",
            "Kapalı Balkon   5.874402     5.0    1   55    836\n",
            "Kapalı Teras    5.926829     4.0    2   52     41\n"
          ]
        }
      ]
    },
    {
      "cell_type": "code",
      "source": [
        "district_stats = df.groupby(\"district\")[\"NumberFloorsofBuilding\"].agg([\"mean\", \"median\", \"min\", \"max\", \"count\"])\n",
        "\n",
        "print(district_stats)"
      ],
      "metadata": {
        "colab": {
          "base_uri": "https://localhost:8080/"
        },
        "id": "zIJFJWzkWFwy",
        "outputId": "b6f59085-9d6b-4667-8b48-3e3c7838a5ec"
      },
      "execution_count": 20,
      "outputs": [
        {
          "output_type": "stream",
          "name": "stdout",
          "text": [
            "                    mean  median  min  max  count\n",
            "district                                         \n",
            "adalar          2.576923     3.0    2    4     26\n",
            "arnavutkoy      4.343750     4.0    1   14    256\n",
            "atasehir        8.592593     5.0    1   71    378\n",
            "avcilar         6.931404     5.0    1   31    933\n",
            "bagcilar       10.074713     6.0    2   33    522\n",
            "bahcelievler    5.025192     5.0    2   20   1429\n",
            "bakirkoy        6.365527     5.0    2   25    673\n",
            "basaksehir     10.190760     7.0    1   38    671\n",
            "bayrampasa      5.109195     5.0    2   23    174\n",
            "besiktas        8.127466     5.0    1   50    659\n",
            "beykoz          3.898649     3.0    1   30    148\n",
            "beylikduzu      6.350225     5.0    1   31    888\n",
            "beyoglu         5.092105     5.0    2   19    228\n",
            "buyukcekmece    4.605820     4.0    1   30    756\n",
            "catalca         2.621622     2.0    1    8     74\n",
            "cekmekoy        5.261105     5.0    1   17    923\n",
            "esenler         4.958491     4.0    2   18    265\n",
            "esenyurt        8.408481     5.0    2   40   1415\n",
            "eyupsultan      5.560630     5.0    1   25    635\n",
            "fatih           4.161885     4.0    1    9    488\n",
            "gaziosmanpasa   9.143865     5.0    1   29    709\n",
            "gungoren        5.171946     5.0    1   20    221\n",
            "kadikoy         9.721300     9.0    2   44   1446\n",
            "kagithane      10.468254     9.0    1   52    756\n",
            "kartal         10.471729     6.0    1   40    619\n",
            "kucukcekmece    6.587803     5.0    1   30   1361\n",
            "maltepe         6.392683     4.0    1   55   1230\n",
            "pendik          6.337758     5.5    1   20    678\n",
            "sancaktepe      5.176471     4.0    1   20    918\n",
            "sariyer        18.403727    20.0    1   68   1449\n",
            "sile            2.715789     3.0    1    5     95\n",
            "silivri         3.959064     3.0    1   14    342\n",
            "sisli          15.394958     7.0    1   56    595\n",
            "sultanbeyli     5.257962     5.0    1   11    314\n",
            "sultangazi      5.162000     5.0    1   20   1000\n",
            "tuzla           6.123037     5.0    1   20    382\n",
            "umraniye        8.039130     5.0    1   36    690\n",
            "uskudar         5.197411     4.0    2   46    618\n",
            "zeytinburnu    12.858639    14.0    3   30    191\n"
          ]
        }
      ]
    },
    {
      "cell_type": "code",
      "source": [
        "add = df.groupby(\"address\")[\"address\"].count()\n",
        "print(add)"
      ],
      "metadata": {
        "colab": {
          "base_uri": "https://localhost:8080/"
        },
        "id": "CyScUb3gWT3D",
        "outputId": "a22f6d69-2e21-4fc3-91a7-ccdfcd42fcc6"
      },
      "execution_count": 19,
      "outputs": [
        {
          "output_type": "stream",
          "name": "stdout",
          "text": [
            "address\n",
            "['Anasayfa', 'Satılık Bina', 'İstanbul Satılık Bina', 'Adalar Satılık Bina', 'Heybeliada Mahallesi Satılık Bina']                                1\n",
            "['Anasayfa', 'Satılık Bina', 'İstanbul Satılık Bina', 'Adalar Satılık Bina', 'Maden Mahallesi Satılık Bina']                                     5\n",
            "['Anasayfa', 'Satılık Bina', 'İstanbul Satılık Bina', 'Arnavutköy Satılık Bina', 'Arnavutköy Merkez Mahallesi Satılık Bina']                     1\n",
            "['Anasayfa', 'Satılık Bina', 'İstanbul Satılık Bina', 'Arnavutköy Satılık Bina', 'Boğazköy İstiklal Mahallesi Satılık Bina']                     1\n",
            "['Anasayfa', 'Satılık Bina', 'İstanbul Satılık Bina', 'Arnavutköy Satılık Bina', 'Fatih Mahallesi Satılık Bina']                                 1\n",
            "                                                                                                                                                ..\n",
            "['Anasayfa', 'Satılık Çiftlik Evi', 'İstanbul Satılık Çiftlik Evi', 'Çatalca Satılık Çiftlik Evi', 'Ovayenice Mahallesi Satılık Çiftlik Evi']    4\n",
            "['Anasayfa', 'Satılık Çiftlik Evi', 'İstanbul Satılık Çiftlik Evi', 'Çatalca Satılık Çiftlik Evi', 'Çakıl Mahallesi Satılık Çiftlik Evi']        2\n",
            "['Anasayfa', 'Satılık Çiftlik Evi', 'İstanbul Satılık Çiftlik Evi', 'Çatalca Satılık Çiftlik Evi', 'Çanakça Mahallesi Satılık Çiftlik Evi']      1\n",
            "['Anasayfa', 'Satılık Çiftlik Evi', 'İstanbul Satılık Çiftlik Evi', 'Şile Satılık Çiftlik Evi', 'Karakiraz Mahallesi Satılık Çiftlik Evi']       1\n",
            "['Anasayfa', 'Satılık Çiftlik Evi', 'İstanbul Satılık Çiftlik Evi', 'Şile Satılık Çiftlik Evi', 'Kızılca Mahallesi Satılık Çiftlik Evi']         2\n",
            "Name: address, Length: 1638, dtype: int64\n"
          ]
        }
      ]
    },
    {
      "cell_type": "code",
      "source": [
        "df['address'].unique()"
      ],
      "metadata": {
        "id": "zPvWLOd6Ww1E",
        "colab": {
          "base_uri": "https://localhost:8080/"
        },
        "outputId": "b12b1192-341d-44b2-e774-7c0889dbd2cc"
      },
      "execution_count": 26,
      "outputs": [
        {
          "output_type": "execute_result",
          "data": {
            "text/plain": [
              "array([\"['Anasayfa', 'Satılık Daire', 'İstanbul Satılık Daire', 'Adalar Satılık Daire', 'Maden Mahallesi Satılık Daire']\",\n",
              "       \"['Anasayfa', 'Satılık Müstakil Ev', 'İstanbul Satılık Müstakil Ev', 'Adalar Satılık Müstakil Ev', 'Maden Mahallesi Satılık Müstakil Ev']\",\n",
              "       \"['Anasayfa', 'Satılık Bina', 'İstanbul Satılık Bina', 'Adalar Satılık Bina', 'Maden Mahallesi Satılık Bina']\",\n",
              "       ...,\n",
              "       \"['Anasayfa', 'Satılık Bina', 'İstanbul Satılık Bina', 'Zeytinburnu Satılık Bina', 'Yenidoğan Mahallesi Satılık Bina']\",\n",
              "       \"['Anasayfa', 'Satılık Residence', 'İstanbul Satılık Residence', 'Zeytinburnu Satılık Residence', 'Nuripaşa Mahallesi Satılık Residence']\",\n",
              "       \"['Anasayfa', 'Satılık Müstakil Ev', 'İstanbul Satılık Müstakil Ev', 'Zeytinburnu Satılık Müstakil Ev', 'Merkezefendi Mahallesi Satılık Müstakil Ev']\"],\n",
              "      dtype=object)"
            ]
          },
          "metadata": {},
          "execution_count": 26
        }
      ]
    },
    {
      "cell_type": "code",
      "source": [
        "df['district'].unique()"
      ],
      "metadata": {
        "colab": {
          "base_uri": "https://localhost:8080/"
        },
        "id": "Br4V6E8-aRyM",
        "outputId": "2dcd4372-877b-41f7-9f13-8af61a4488f8"
      },
      "execution_count": 27,
      "outputs": [
        {
          "output_type": "execute_result",
          "data": {
            "text/plain": [
              "array(['adalar', 'arnavutkoy', 'atasehir', 'avcilar', 'bagcilar',\n",
              "       'bahcelievler', 'bakirkoy', 'basaksehir', 'bayrampasa', 'besiktas',\n",
              "       'beykoz', 'beylikduzu', 'beyoglu', 'buyukcekmece', 'catalca',\n",
              "       'cekmekoy', 'esenler', 'esenyurt', 'eyupsultan', 'fatih',\n",
              "       'gaziosmanpasa', 'gungoren', 'kadikoy', 'kagithane', 'kartal',\n",
              "       'kucukcekmece', 'maltepe', 'pendik', 'sancaktepe', 'sariyer',\n",
              "       'sile', 'silivri', 'sisli', 'sultanbeyli', 'sultangazi', 'tuzla',\n",
              "       'umraniye', 'uskudar', 'zeytinburnu'], dtype=object)"
            ]
          },
          "metadata": {},
          "execution_count": 27
        }
      ]
    },
    {
      "cell_type": "code",
      "source": [
        "mean_stats= df.groupby([\"address\",\"district\",\"BuildingAge\",\"UsingStatus\",\"BalconyType\"]).NumberFloorsofBuilding.mean()\n",
        "print(mean_stats)"
      ],
      "metadata": {
        "colab": {
          "base_uri": "https://localhost:8080/"
        },
        "id": "b-XzELWUaZCI",
        "outputId": "c42da5d8-8b55-459a-87ae-1e48a52cd02e"
      },
      "execution_count": 31,
      "outputs": [
        {
          "output_type": "stream",
          "name": "stdout",
          "text": [
            "address                                                                                                                           district    BuildingAge  UsingStatus           BalconyType  \n",
            "['Anasayfa', 'Satılık Daire', 'İstanbul Satılık Daire', 'Arnavutköy Satılık Daire', 'Anadolu Mahallesi Satılık Daire']            arnavutkoy  3.0          Boş                   Açık Balkon       4.0\n",
            "                                                                                                                                              4.0          Kiracı Oturuyor       Açık Balkon       4.0\n",
            "                                                                                                                                                           Mülk Sahibi Oturuyor  Kapalı Balkon     5.0\n",
            "['Anasayfa', 'Satılık Daire', 'İstanbul Satılık Daire', 'Arnavutköy Satılık Daire', 'Arnavutköy Merkez Mahallesi Satılık Daire']  arnavutkoy  4.0          Mülk Sahibi Oturuyor  Kapalı Teras      5.0\n",
            "['Anasayfa', 'Satılık Daire', 'İstanbul Satılık Daire', 'Arnavutköy Satılık Daire', 'Taşoluk Mahallesi Satılık Daire']            arnavutkoy  4.0          Boş                   Açık Balkon       4.0\n",
            "                                                                                                                                                                                                  ... \n",
            "['Anasayfa', 'Satılık Villa', 'İstanbul Satılık Villa', 'Silivri Satılık Villa', 'Çanta Balaban Mahallesi Satılık Villa']         silivri     3.0          Boş                   Açık Balkon       2.0\n",
            "['Anasayfa', 'Satılık Villa', 'İstanbul Satılık Villa', 'Silivri Satılık Villa', 'Çanta Sancaktepe Mahallesi Satılık Villa']      silivri     4.0          Mülk Sahibi Oturuyor  Açık Balkon       3.0\n",
            "['Anasayfa', 'Satılık Villa', 'İstanbul Satılık Villa', 'Çatalca Satılık Villa', 'Çanakça Mahallesi Satılık Villa']               catalca     2.0          Mülk Sahibi Oturuyor  Açık Balkon       2.0\n",
            "['Anasayfa', 'Satılık Villa', 'İstanbul Satılık Villa', 'Şile Satılık Villa', 'Ulupelit Mahallesi Satılık Villa']                 sile        4.0          Boş                   Açık Teras        2.0\n",
            "['Anasayfa', 'Satılık Yazlık', 'İstanbul Satılık Yazlık', 'Ümraniye Satılık Yazlık', 'Necip Fazıl Mahallesi Satılık Yazlık']      umraniye    4.0          Boş                   Açık Balkon      15.0\n",
            "Name: NumberFloorsofBuilding, Length: 638, dtype: float64\n"
          ]
        }
      ]
    },
    {
      "cell_type": "code",
      "source": [],
      "metadata": {
        "id": "4ic8eIEPat3G"
      },
      "execution_count": null,
      "outputs": []
    }
  ]
}