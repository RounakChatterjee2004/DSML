{
 "cells": [
  {
   "cell_type": "code",
   "execution_count": 1,
   "metadata": {
    "colab": {
     "base_uri": "https://localhost:8080/"
    },
    "id": "lBkmokRkK9M9",
    "outputId": "670fa98f-83a6-447a-94bf-ccf2847bca5e"
   },
   "outputs": [],
   "source": [
    "import numpy as np\n",
    "import pandas as pd\n",
    "\n"
   ]
  },
  {
   "cell_type": "code",
   "execution_count": null,
   "metadata": {},
   "outputs": [
    {
     "name": "stdout",
     "output_type": "stream",
     "text": [
      "   Id    Age  Income  Gender       Ms Buys\n",
      "0   1    <21    High    Male   Single   No\n",
      "1   2    <21    High    Male  Married   No\n",
      "2   3  21-35    High    Male   Single  Yes\n",
      "3   4    >35  Medium    Male   Single  Yes\n",
      "4   5    >35     Low  Female   Single  Yes\n",
      "\n",
      "________________________\n",
      "\n",
      "      Age  Income  Gender       Ms\n",
      "0     <21    High    Male   Single\n",
      "1     <21    High    Male  Married\n",
      "2   21-35    High    Male   Single\n",
      "3     >35  Medium    Male   Single\n",
      "4     >35     Low  Female   Single\n",
      "5     >35     Low  Female  Married\n",
      "6   21-35     Low  Female  Married\n",
      "7     <21  Medium    Male   Single\n",
      "8     <21     Low  Female  Married\n",
      "9     >35  Medium  Female   Single\n",
      "10    <21  Medium  Female  Married\n",
      "11  21-35  Medium    Male  Married\n",
      "12  21-35    High  Female   Single\n",
      "13    >35  Medium    Male  Married\n",
      "\n",
      "________________________\n",
      "\n",
      "0      No\n",
      "1      No\n",
      "2     Yes\n",
      "3     Yes\n",
      "4     Yes\n",
      "5      No\n",
      "6     Yes\n",
      "7      No\n",
      "8     Yes\n",
      "9     Yes\n",
      "10    Yes\n",
      "11    Yes\n",
      "12    Yes\n",
      "13     No\n",
      "Name: Buys, dtype: object\n"
     ]
    }
   ],
   "source": [
    "#reading dataset\n",
    "data=pd.read_csv(\"C:/Users/Sohel's PC/Desktop/DSML_Practical/Datasets(1)/Datasets/Lipstick.csv\")\n",
    "print(data.head())\n",
    "print(\"\\n________________________\\n\")\n",
    "x=data.loc[:,\"Age\":\"Ms\"] # we want x to have all features but \"Id\" feature is not necessary at all so we will exclude it and only consider Age to Ms as features\n",
    "print(x)\n",
    "print(\"\\n________________________\\n\")\n",
    "y=data.loc[:,\"Buys\"] #Now we want y as target variable, so y will hold Buys column's values\n",
    "print(y)\n"
   ]
  },
  {
   "cell_type": "code",
   "execution_count": 4,
   "metadata": {
    "id": "9HCLoBViQV0u"
   },
   "outputs": [
    {
     "name": "stdout",
     "output_type": "stream",
     "text": [
      "   Id    Age  Income  Gender       Ms Buys\n",
      "0   1    <21    High    Male   Single   No\n",
      "1   2    <21    High    Male  Married   No\n",
      "2   3  21-35    High    Male   Single  Yes\n",
      "3   4    >35  Medium    Male   Single  Yes\n",
      "4   5    >35     Low  Female   Single  Yes\n",
      "__________________________\n",
      "    Age  Income  Gender  Ms\n",
      "0     1       0       1   1\n",
      "1     1       0       1   0\n",
      "2     0       0       1   1\n",
      "3     2       2       1   1\n",
      "4     2       1       0   1\n",
      "5     2       1       0   0\n",
      "6     0       1       0   0\n",
      "7     1       2       1   1\n",
      "8     1       1       0   0\n",
      "9     2       2       0   1\n",
      "10    1       2       0   0\n",
      "11    0       2       1   0\n",
      "12    0       0       0   1\n",
      "13    2       2       1   0\n"
     ]
    }
   ],
   "source": [
    "\n",
    "#perform label encoding\n",
    "from sklearn.preprocessing import LabelEncoder\n",
    "label_encoder_X=LabelEncoder()\n",
    "print(data.head())\n",
    "print(\"__________________________\")\n",
    "x=x.apply(label_encoder_X.fit_transform)\n",
    "print(x)\n",
    "#Here We will transform our attribute values into labels,\n",
    "#For eg:  Labels are encoded alphabetically like Income has categories High,Medium,Low so alphabetically High>Low>Medium hence labels will be 0(High),1(Low),2(Medium) respectively\n",
    "#similarly Marital Status has Single and Married hecne married=0 adn single =1\n",
    "#As concerned with Age, 21-35 is considered as 0 and <21 is considered as 1 because of \"<\" sign it comes before \">\" hence >35 becomes 2\n"
   ]
  },
  {
   "cell_type": "code",
   "execution_count": 5,
   "metadata": {},
   "outputs": [
    {
     "name": "stdout",
     "output_type": "stream",
     "text": [
      "    Age  Income  Gender  Ms\n",
      "0     1       0       1   1\n",
      "1     1       0       1   0\n",
      "2     0       0       1   1\n",
      "3     2       2       1   1\n",
      "4     2       1       0   1\n",
      "5     2       1       0   0\n",
      "6     0       1       0   0\n",
      "7     1       2       1   1\n",
      "8     1       1       0   0\n",
      "9     2       2       0   1\n",
      "10    1       2       0   0\n",
      "11    0       2       1   0\n",
      "12    0       0       0   1\n",
      "13    2       2       1   0\n",
      "Prediction ['Yes']\n"
     ]
    },
    {
     "name": "stderr",
     "output_type": "stream",
     "text": [
      "c:\\Users\\Sohel's PC\\AppData\\Local\\Programs\\Python\\Python312\\Lib\\site-packages\\sklearn\\base.py:493: UserWarning: X does not have valid feature names, but DecisionTreeClassifier was fitted with feature names\n",
      "  warnings.warn(\n"
     ]
    }
   ],
   "source": [
    "from sklearn.tree import DecisionTreeClassifier\n",
    "classifier=DecisionTreeClassifier()\n",
    "classifier.fit(x,y)\n",
    "print(x)\n",
    "#Predixt value for the given expression\\\n",
    "x_in=np.array([1,1,0,0]) \n",
    "#age<21=1,low income=(Low)1, female and married=0\n",
    "y_pred=classifier.predict([x_in])\n",
    "print(\"Prediction\",y_pred)"
   ]
  }
 ],
 "metadata": {
  "colab": {
   "provenance": []
  },
  "kernelspec": {
   "display_name": "Python 3",
   "name": "python3"
  },
  "language_info": {
   "codemirror_mode": {
    "name": "ipython",
    "version": 3
   },
   "file_extension": ".py",
   "mimetype": "text/x-python",
   "name": "python",
   "nbconvert_exporter": "python",
   "pygments_lexer": "ipython3",
   "version": "3.12.5"
  }
 },
 "nbformat": 4,
 "nbformat_minor": 0
}
