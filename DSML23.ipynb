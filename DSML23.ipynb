{
  "nbformat": 4,
  "nbformat_minor": 0,
  "metadata": {
    "colab": {
      "provenance": []
    },
    "kernelspec": {
      "name": "python3",
      "display_name": "Python 3"
    },
    "language_info": {
      "name": "python"
    }
  },
  "cells": [
    {
      "cell_type": "code",
      "execution_count": 3,
      "metadata": {
        "colab": {
          "base_uri": "https://localhost:8080/"
        },
        "id": "5WaVT20IwsrD",
        "outputId": "76b4f1b5-a079-4eb7-f717-c2d089ec142a"
      },
      "outputs": [
        {
          "output_type": "stream",
          "name": "stdout",
          "text": [
            "Step 2: Frequency Table for Age\n",
            "Age\n",
            "Young     5\n",
            "Old       5\n",
            "Middle    4\n",
            "Name: count, dtype: int64\n",
            "\n",
            "\n",
            "Step 3: Class Distribution for each Age value\n",
            "Age     Class\n",
            "Middle  Yes      4\n",
            "Old     No       2\n",
            "        Yes      3\n",
            "Young   No       3\n",
            "        Yes      2\n",
            "dtype: int64\n",
            "\n",
            "\n",
            "Step 4: Total Entropy\n",
            "Total Entropy = 0.9403\n",
            "\n",
            "\n",
            "Step 5: Entropy for each Age value\n",
            "Age Young:\n",
            "Entropy: 0.9710\n",
            "\n",
            "Age Middle:\n",
            "Entropy: 0.0000\n",
            "\n",
            "Age Old:\n",
            "Entropy: 0.9710\n",
            "\n",
            "Step 6: Final Results\n",
            "Total Entropy: 0.9403\n",
            "Weighted Entropy: 0.6935\n",
            "Information Gain: 0.2467\n"
          ]
        }
      ],
      "source": [
        "import pandas as pd\n",
        "import numpy as np\n",
        "from math import log2\n",
        "\n",
        "# Step 1: Create the dataset\n",
        "data = {\n",
        "    'Age': ['Young', 'Young', 'Middle', 'Old', 'Old', 'Old', 'Middle', 'Young', 'Young',\n",
        "            'Old', 'Young', 'Middle', 'Middle', 'Old'],\n",
        "    'Class': ['No', 'No', 'Yes', 'Yes', 'Yes', 'No', 'Yes', 'No', 'Yes', 'Yes', 'Yes',\n",
        "              'Yes', 'Yes', 'No']\n",
        "}\n",
        "df = pd.DataFrame(data)\n",
        "\n",
        "# Step 2: Print frequency table for Age\n",
        "print(\"Step 2: Frequency Table for Age\")\n",
        "freq_table = df['Age'].value_counts()\n",
        "print(freq_table)\n",
        "print(\"\\n\")\n",
        "\n",
        "# Step 3: Calculate class distribution for each Age value\n",
        "print(\"Step 3: Class Distribution for each Age value\")\n",
        "class_dist = df.groupby(['Age', 'Class']).size()\n",
        "print(class_dist)\n",
        "print(\"\\n\")\n",
        "\n",
        "# Step 4: Calculate total entropy\n",
        "total_yes = len(df[df['Class'] == 'Yes'])\n",
        "total_no = len(df[df['Class'] == 'No'])\n",
        "total = len(df)\n",
        "\n",
        "p_yes = total_yes/total\n",
        "p_no = total_no/total\n",
        "total_entropy = -p_yes * log2(p_yes) - p_no * log2(p_no)\n",
        "\n",
        "print(\"Step 4: Total Entropy\")\n",
        "print(f\"Total Entropy = {total_entropy:.4f}\")\n",
        "print(\"\\n\")\n",
        "\n",
        "# Step 5: Calculate entropy for each Age value\n",
        "print(\"Step 5: Entropy for each Age value\")\n",
        "weighted_entropy = 0\n",
        "\n",
        "for age in df['Age'].unique():\n",
        "    age_data = df[df['Age'] == age]\n",
        "    age_total = len(age_data)\n",
        "\n",
        "    yes_count = len(age_data[age_data['Class'] == 'Yes'])\n",
        "    no_count = len(age_data[age_data['Class'] == 'No'])\n",
        "\n",
        "    # Calculate probability\n",
        "    p_yes = yes_count/age_total\n",
        "    p_no = no_count/age_total\n",
        "\n",
        "    # Calculate entropy\n",
        "    if p_yes == 0 or p_no == 0:\n",
        "        entropy = 0\n",
        "    else:\n",
        "        entropy = -p_yes * log2(p_yes) - p_no * log2(p_no)\n",
        "\n",
        "    # Calculate weighted entropy\n",
        "    weight = age_total/total\n",
        "    weighted_entropy += weight * entropy\n",
        "\n",
        "    print(f\"Age {age}:\")\n",
        "    print(f\"Entropy: {entropy:.4f}\")\n",
        "    print()\n",
        "\n",
        "# Step 6: Calculate information gain\n",
        "info_gain = total_entropy - weighted_entropy\n",
        "\n",
        "print(\"Step 6: Final Results\")\n",
        "print(f\"Total Entropy: {total_entropy:.4f}\")\n",
        "print(f\"Weighted Entropy: {weighted_entropy:.4f}\")\n",
        "print(f\"Information Gain: {info_gain:.4f}\")"
      ]
    },
    {
      "cell_type": "code",
      "source": [],
      "metadata": {
        "id": "eFLkROCkw8jG"
      },
      "execution_count": null,
      "outputs": []
    }
  ]
}