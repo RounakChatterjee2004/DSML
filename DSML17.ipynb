{
  "nbformat": 4,
  "nbformat_minor": 0,
  "metadata": {
    "colab": {
      "provenance": []
    },
    "kernelspec": {
      "name": "python3",
      "display_name": "Python 3"
    },
    "language_info": {
      "name": "python"
    }
  },
  "cells": [
    {
      "cell_type": "code",
      "execution_count": null,
      "metadata": {
        "id": "ZAOQQcuU-H8d",
        "colab": {
          "base_uri": "https://localhost:8080/"
        },
        "outputId": "215c9091-4d04-4982-c9e1-fcdc3be0fde3"
      },
      "outputs": [
        {
          "output_type": "stream",
          "name": "stdout",
          "text": [
            "Accuracy: 0.91\n",
            "Error Rate: 0.08999999999999997\n",
            "Precision: 0.5\n",
            "Recall: 0.1111111111111111\n"
          ]
        }
      ],
      "source": [
        "# Given confusion matrix values\n",
        "TP = 1  # True Positives\n",
        "FP = 1  # False Positives\n",
        "FN = 8  # False Negatives\n",
        "TN = 90  # True Negatives\n",
        "\n",
        "accuracy = (TP + TN) / (TP + TN + FP + FN)\n",
        "precision = TP / (TP + FP)\n",
        "recall = TP / (TP + FN)\n",
        "error_rate = 1 - accuracy\n",
        "\n",
        "# Print results\n",
        "print(f\"Accuracy: {accuracy}\")\n",
        "print(f\"Error Rate: {error_rate:}\")\n",
        "print(f\"Precision: {precision:}\")\n",
        "print(f\"Recall: {recall:}\")\n",
        "\n"
      ]
    },
    {
      "cell_type": "code",
      "source": [],
      "metadata": {
        "id": "PkHPIw9_-NbY"
      },
      "execution_count": null,
      "outputs": []
    }
  ]
}