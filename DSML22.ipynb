{
  "nbformat": 4,
  "nbformat_minor": 0,
  "metadata": {
    "colab": {
      "provenance": []
    },
    "kernelspec": {
      "name": "python3",
      "display_name": "Python 3"
    },
    "language_info": {
      "name": "python"
    }
  },
  "cells": [
    {
      "cell_type": "code",
      "execution_count": 5,
      "metadata": {
        "colab": {
          "base_uri": "https://localhost:8080/"
        },
        "id": "KHufclK3s_tN",
        "outputId": "550a47bb-5099-4606-853a-5fc9feb50e8b"
      },
      "outputs": [
        {
          "output_type": "stream",
          "name": "stdout",
          "text": [
            "Accuracy: 96.5%\n",
            "Error Rate: 3.5000000000000004%\n",
            "Precision: 30.0%\n",
            "Recall: 39.130434782608695%\n"
          ]
        }
      ],
      "source": [
        "# Given values from the confusion matrix\n",
        "TP = 90   # True Positive (Cancer = Yes, Predicted Yes)\n",
        "TN = 9560 # True Negative (Cancer = No, Predicted No)\n",
        "FP = 210  # False Positive (Cancer = Yes, Predicted No)\n",
        "FN = 140  # False Negative (Cancer = No, Predicted Yes)\n",
        "total = 10000  # Total instances\n",
        "\n",
        "# Accuracy\n",
        "accuracy = (TP + TN) / total\n",
        "\n",
        "# Error rate\n",
        "error_rate = (FP + FN) / total\n",
        "\n",
        "# Precision\n",
        "precision = TP / (TP + FP)\n",
        "\n",
        "# Recall\n",
        "recall = TP / (TP + FN)\n",
        "\n",
        "# Print the results\n",
        "print(f\"Accuracy: {accuracy * 100}%\")\n",
        "print(f\"Error Rate: {error_rate * 100}%\")\n",
        "print(f\"Precision: {precision * 100}%\")\n",
        "print(f\"Recall: {recall * 100}%\")\n"
      ]
    },
    {
      "cell_type": "code",
      "source": [
        ""
      ],
      "metadata": {
        "id": "1ebVfkritDaw"
      },
      "execution_count": null,
      "outputs": []
    }
  ]
}